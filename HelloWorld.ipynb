{
 "cells": [
  {
   "cell_type": "code",
   "execution_count": null,
   "id": "e74865c2-54d2-4502-8d9c-4415f42c984e",
   "metadata": {
    "is_executing": true
   },
   "outputs": [],
   "source": [
    "print(\"Hello World\")"
   ]
  },
  {
   "cell_type": "markdown",
   "id": "c04141d7-615b-468d-b6d0-6fd73fe6a901",
   "metadata": {},
   "source": [
    "# Functools\n",
    "Functools is a fantastic package. I personally enjoy using the partial function:"
   ]
  },
  {
   "cell_type": "code",
   "id": "c38df9da-f793-449e-ac37-f137b23c2456",
   "metadata": {
    "ExecuteTime": {
     "end_time": "2024-06-21T07:02:14.143036Z",
     "start_time": "2024-06-21T07:02:14.138440Z"
    }
   },
   "source": [
    "from functools import partial\n",
    "\n",
    "def mul(a, b):\n",
    "    return a * b\n",
    "\n",
    "mul2 = partial(mul, 2)\n",
    "\n",
    "print(mul2(5))"
   ],
   "outputs": [
    {
     "name": "stdout",
     "output_type": "stream",
     "text": [
      "10\n"
     ]
    }
   ],
   "execution_count": 1
  }
 ],
 "metadata": {
  "kernelspec": {
   "display_name": "Python 3 (ipykernel)",
   "language": "python",
   "name": "python3"
  },
  "language_info": {
   "codemirror_mode": {
    "name": "ipython",
    "version": 3
   },
   "file_extension": ".py",
   "mimetype": "text/x-python",
   "name": "python",
   "nbconvert_exporter": "python",
   "pygments_lexer": "ipython3",
   "version": "3.9.6"
  }
 },
 "nbformat": 4,
 "nbformat_minor": 5
}
