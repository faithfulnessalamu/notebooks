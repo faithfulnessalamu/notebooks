{
 "cells": [
  {
   "cell_type": "markdown",
   "id": "c04141d7-615b-468d-b6d0-6fd73fe6a901",
   "metadata": {},
   "source": [
    "# Functools\n",
    "Functools is a fantastic package. I personally enjoy using the partial function:"
   ]
  },
  {
   "cell_type": "code",
   "id": "c38df9da-f793-449e-ac37-f137b23c2456",
   "metadata": {},
   "source": [
    "from functools import partial\n",
    "\n",
    "def mul(a, b):\n",
    "    return a * b\n",
    "\n",
    "mul2 = partial(mul, 2)\n",
    "\n",
    "print(mul2(5))"
   ],
   "outputs": [],
   "execution_count": null
  }
 ],
 "metadata": {
  "kernelspec": {
   "display_name": "Python 3 (ipykernel)",
   "language": "python",
   "name": "python3"
  },
  "language_info": {
   "codemirror_mode": {
    "name": "ipython",
    "version": 3
   },
   "file_extension": ".py",
   "mimetype": "text/x-python",
   "name": "python",
   "nbconvert_exporter": "python",
   "pygments_lexer": "ipython3",
   "version": "3.9.6"
  }
 },
 "nbformat": 4,
 "nbformat_minor": 5
}
